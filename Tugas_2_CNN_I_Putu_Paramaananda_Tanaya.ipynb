{
  "cells": [
    {
      "cell_type": "code",
      "execution_count": 2,
      "metadata": {
        "id": "AX7FNumR8ln_"
      },
      "outputs": [],
      "source": [
        "# !pip install torch torchvision\n"
      ]
    },
    {
      "cell_type": "markdown",
      "metadata": {
        "id": "pwFoQbDUPAeX"
      },
      "source": [
        "Mengimport library PyTorch dan torchvision :\n",
        "\n",
        "\n",
        "1.   torch: untuk operasi tensor dan algoritma pembelajaran mendalam.\n",
        "torch.nn: untuk membangun model neural network.\n",
        "2.  torch.optim: untuk fungsi optimasi model.\n",
        "3.  torchvision: untuk manipulasi dataset dan model yang sudah dilatih sebelumnya.\n",
        "4.  matplotlib.pyplot: untuk visualisasi data dan grafik pelatihan.\n",
        "\n",
        "\n",
        "\n"
      ]
    },
    {
      "cell_type": "code",
      "execution_count": 3,
      "metadata": {
        "id": "C121T5Zv8loC"
      },
      "outputs": [],
      "source": [
        "import torch\n",
        "import torch.nn as nn\n",
        "import torch.optim as optim\n",
        "import torchvision\n",
        "import torchvision.transforms as transforms\n",
        "import torchvision.models as models\n",
        "import matplotlib.pyplot as plt"
      ]
    },
    {
      "cell_type": "markdown",
      "metadata": {
        "id": "hAXGy4XYPaqI"
      },
      "source": [
        "Penentuan Perangkat (CPU/GPU)"
      ]
    },
    {
      "cell_type": "code",
      "execution_count": 4,
      "metadata": {
        "id": "9HbEUSmAApU9"
      },
      "outputs": [],
      "source": [
        "device = torch.device('cuda' if torch.cuda.is_available() else 'cpu')"
      ]
    },
    {
      "cell_type": "markdown",
      "metadata": {
        "id": "cIItHaOcBFhm"
      },
      "source": [
        "#MNIST"
      ]
    },
    {
      "cell_type": "markdown",
      "metadata": {
        "id": "ndE4utKKPhG5"
      },
      "source": [
        "Mengunduh dataset MNIST dari torchvision dan menerapkan transformasi yang didefinisikan sebelumnya.\n",
        "\n",
        "Menggunakan transforms.Compose dari torchvision untuk menerapkan transformasi pada dataset.\n",
        "\n",
        "Transformasi yang digunakan:\n",
        "transforms.ToTensor():\n",
        "* Mengubah gambar dari format PIL (Python\n",
        "Imaging Library) atau NumPy array menjadi tensor PyTorch.\n",
        "* transforms.Normalize((0.5,), (0.5,)): Menormalkan gambar dengan nilai rata-rata 0,5 dan standar deviasi 0,5. Penormalan ini membantu mempercepat proses pelatihan dengan menyelaraskan nilai piksel dalam rentang tertentu.\n",
        "\n",
        "trainloader dan testloader: Memuat dataset ke dalam DataLoader untuk mempermudah pengelolaan data selama pelatihan dan pengujian."
      ]
    },
    {
      "cell_type": "code",
      "execution_count": 5,
      "metadata": {
        "colab": {
          "base_uri": "https://localhost:8080/"
        },
        "id": "gdgpByBp8loD",
        "outputId": "bfc75501-bc66-454d-aaf8-ccfc803988a7"
      },
      "outputs": [
        {
          "name": "stdout",
          "output_type": "stream",
          "text": [
            "Downloading http://yann.lecun.com/exdb/mnist/train-images-idx3-ubyte.gz\n",
            "Failed to download (trying next):\n",
            "HTTP Error 403: Forbidden\n",
            "\n",
            "Downloading https://ossci-datasets.s3.amazonaws.com/mnist/train-images-idx3-ubyte.gz\n",
            "Downloading https://ossci-datasets.s3.amazonaws.com/mnist/train-images-idx3-ubyte.gz to ./data/MNIST/raw/train-images-idx3-ubyte.gz\n"
          ]
        },
        {
          "name": "stderr",
          "output_type": "stream",
          "text": [
            "100%|██████████| 9912422/9912422 [00:00<00:00, 38226637.32it/s]\n"
          ]
        },
        {
          "name": "stdout",
          "output_type": "stream",
          "text": [
            "Extracting ./data/MNIST/raw/train-images-idx3-ubyte.gz to ./data/MNIST/raw\n",
            "\n",
            "Downloading http://yann.lecun.com/exdb/mnist/train-labels-idx1-ubyte.gz\n",
            "Failed to download (trying next):\n",
            "HTTP Error 403: Forbidden\n",
            "\n",
            "Downloading https://ossci-datasets.s3.amazonaws.com/mnist/train-labels-idx1-ubyte.gz\n",
            "Downloading https://ossci-datasets.s3.amazonaws.com/mnist/train-labels-idx1-ubyte.gz to ./data/MNIST/raw/train-labels-idx1-ubyte.gz\n"
          ]
        },
        {
          "name": "stderr",
          "output_type": "stream",
          "text": [
            "100%|██████████| 28881/28881 [00:00<00:00, 1080632.79it/s]"
          ]
        },
        {
          "name": "stdout",
          "output_type": "stream",
          "text": [
            "Extracting ./data/MNIST/raw/train-labels-idx1-ubyte.gz to ./data/MNIST/raw\n",
            "\n",
            "Downloading http://yann.lecun.com/exdb/mnist/t10k-images-idx3-ubyte.gz\n"
          ]
        },
        {
          "name": "stderr",
          "output_type": "stream",
          "text": [
            "\n"
          ]
        },
        {
          "name": "stdout",
          "output_type": "stream",
          "text": [
            "Failed to download (trying next):\n",
            "HTTP Error 403: Forbidden\n",
            "\n",
            "Downloading https://ossci-datasets.s3.amazonaws.com/mnist/t10k-images-idx3-ubyte.gz\n",
            "Downloading https://ossci-datasets.s3.amazonaws.com/mnist/t10k-images-idx3-ubyte.gz to ./data/MNIST/raw/t10k-images-idx3-ubyte.gz\n"
          ]
        },
        {
          "name": "stderr",
          "output_type": "stream",
          "text": [
            "100%|██████████| 1648877/1648877 [00:00<00:00, 2285352.10it/s]\n"
          ]
        },
        {
          "name": "stdout",
          "output_type": "stream",
          "text": [
            "Extracting ./data/MNIST/raw/t10k-images-idx3-ubyte.gz to ./data/MNIST/raw\n",
            "\n",
            "Downloading http://yann.lecun.com/exdb/mnist/t10k-labels-idx1-ubyte.gz\n",
            "Failed to download (trying next):\n",
            "HTTP Error 403: Forbidden\n",
            "\n",
            "Downloading https://ossci-datasets.s3.amazonaws.com/mnist/t10k-labels-idx1-ubyte.gz\n",
            "Downloading https://ossci-datasets.s3.amazonaws.com/mnist/t10k-labels-idx1-ubyte.gz to ./data/MNIST/raw/t10k-labels-idx1-ubyte.gz\n"
          ]
        },
        {
          "name": "stderr",
          "output_type": "stream",
          "text": [
            "100%|██████████| 4542/4542 [00:00<00:00, 5998277.32it/s]"
          ]
        },
        {
          "name": "stdout",
          "output_type": "stream",
          "text": [
            "Extracting ./data/MNIST/raw/t10k-labels-idx1-ubyte.gz to ./data/MNIST/raw\n",
            "\n"
          ]
        },
        {
          "name": "stderr",
          "output_type": "stream",
          "text": [
            "\n"
          ]
        }
      ],
      "source": [
        "# Transformasi data MNIST\n",
        "transform = transforms.Compose([transforms.ToTensor(), transforms.Normalize((0.5,), (0.5,))])\n",
        "\n",
        "# Dataset MNIST\n",
        "trainset = torchvision.datasets.MNIST(root='./data', train=True, download=True, transform=transform)\n",
        "trainloader = torch.utils.data.DataLoader(trainset, batch_size=64, shuffle=True)\n",
        "\n",
        "testset = torchvision.datasets.MNIST(root='./data', train=False, download=True, transform=transform)\n",
        "testloader = torch.utils.data.DataLoader(testset, batch_size=64, shuffle=False)\n"
      ]
    },
    {
      "cell_type": "markdown",
      "metadata": {
        "id": "H9HabzV1QQFO"
      },
      "source": [
        "Definisi SimpleCNN untuk MNIST:\n",
        "* conv1 dan conv2: Lapisan konvolusi dengan filter ukuran 3x3. conv1 menerima satu saluran (karena MNIST adalah gambar grayscale), dan menghasilkan 32 filter. conv2 menghasilkan 64 filter.\n",
        "* pool: Lapisan max pooling dengan ukuran kernel 2x2, yang mengecilkan dimensi fitur.\n",
        "* fc1 dan fc2: Lapisan fully connected (FC). FC pertama menerima vektor berukuran 64*7*7 yang diubah menjadi 128 unit, dan FC terakhir memetakan ke 10 kelas (sesuai jumlah kelas pada dataset MNIST).\n",
        "* forward: Fungsi forward pass untuk melintasi data melalui jaringan. Data diteruskan melalui lapisan konvolusi, pooling, lapisan fully connected, dan akhirnya menghasilkan output prediksi.\n",
        "\n",
        "\n",
        "\n"
      ]
    },
    {
      "cell_type": "code",
      "execution_count": 6,
      "metadata": {
        "id": "eNz2v02M8loE"
      },
      "outputs": [],
      "source": [
        "class SimpleCNN(nn.Module):\n",
        "    def __init__(self):\n",
        "        super(SimpleCNN, self).__init__()\n",
        "        self.conv1 = nn.Conv2d(1, 32, kernel_size=3, padding=1)\n",
        "        self.conv2 = nn.Conv2d(32, 64, kernel_size=3, padding=1)\n",
        "        self.pool = nn.MaxPool2d(2, 2)\n",
        "        self.fc1 = nn.Linear(64 * 7 * 7, 128)\n",
        "        self.fc2 = nn.Linear(128, 10)\n",
        "\n",
        "    def forward(self, x):\n",
        "        x = self.pool(torch.relu(self.conv1(x)))\n",
        "        x = self.pool(torch.relu(self.conv2(x)))\n",
        "        x = x.view(-1, 64 * 7 * 7)\n",
        "        x = torch.relu(self.fc1(x))\n",
        "        x = self.fc2(x)\n",
        "        return x"
      ]
    },
    {
      "cell_type": "code",
      "execution_count": 7,
      "metadata": {
        "id": "aL_C82p-BuvL"
      },
      "outputs": [],
      "source": [
        "# Inisialisasi model, loss, and optimizer\n",
        "model = SimpleCNN().to(device)\n",
        "criterion = nn.CrossEntropyLoss()\n",
        "optimizer = optim.Adam(model.parameters(), lr=0.001)"
      ]
    },
    {
      "cell_type": "markdown",
      "metadata": {
        "id": "T-w807tnRtGF"
      },
      "source": [
        "Fungsi Training Model"
      ]
    },
    {
      "cell_type": "code",
      "execution_count": 8,
      "metadata": {
        "id": "KUYjeaTy8loF"
      },
      "outputs": [],
      "source": [
        "def train_model(model, trainloader, criterion, optimizer, epochs=5):\n",
        "    model.train()\n",
        "    train_loss = []\n",
        "    for epoch in range(epochs):\n",
        "        running_loss = 0.0\n",
        "        for inputs, labels in trainloader:\n",
        "            inputs, labels = inputs.to(device), labels.to(device)\n",
        "\n",
        "            optimizer.zero_grad()\n",
        "            outputs = model(inputs)\n",
        "            loss = criterion(outputs, labels)\n",
        "            loss.backward()\n",
        "            optimizer.step()\n",
        "\n",
        "            running_loss += loss.item()\n",
        "        epoch_loss = running_loss / len(trainloader)\n",
        "        train_loss.append(epoch_loss)\n",
        "        print(f\"Epoch {epoch+1}/{epochs}, Loss: {epoch_loss:.4f}\")\n",
        "    return train_loss"
      ]
    },
    {
      "cell_type": "markdown",
      "metadata": {
        "id": "bbE2kgFsRyB8"
      },
      "source": [
        "Training pada model"
      ]
    },
    {
      "cell_type": "code",
      "execution_count": 9,
      "metadata": {
        "colab": {
          "base_uri": "https://localhost:8080/"
        },
        "id": "Nfd_VdHj8loF",
        "outputId": "5a1f3e69-f535-47b3-a323-a1efc6961071"
      },
      "outputs": [
        {
          "name": "stdout",
          "output_type": "stream",
          "text": [
            "Epoch 1/5, Loss: 0.1691\n",
            "Epoch 2/5, Loss: 0.0474\n",
            "Epoch 3/5, Loss: 0.0345\n",
            "Epoch 4/5, Loss: 0.0244\n",
            "Epoch 5/5, Loss: 0.0186\n"
          ]
        }
      ],
      "source": [
        "train_loss_mnist = train_model(model, trainloader, criterion, optimizer)"
      ]
    },
    {
      "cell_type": "markdown",
      "metadata": {
        "id": "FsD-n2ObR4IH"
      },
      "source": [
        "Visualisasi Training Loss"
      ]
    },
    {
      "cell_type": "code",
      "execution_count": 10,
      "metadata": {
        "colab": {
          "base_uri": "https://localhost:8080/",
          "height": 472
        },
        "id": "erNF1nXL8loG",
        "outputId": "f48fedd0-9709-4cf6-ccd0-d0b89a566aea"
      },
      "outputs": [
        {
          "data": {
            "image/png": "[encoded data removed]",
            "text/plain": [
              "<Figure size 640x480 with 1 Axes>"
            ]
          },
          "metadata": {},
          "output_type": "display_data"
        }
      ],
      "source": [
        "plt.plot(train_loss_mnist)\n",
        "plt.title('MNIST Training Loss')\n",
        "plt.xlabel('Epoch')\n",
        "plt.ylabel('Loss')\n",
        "plt.show()"
      ]
    },
    {
      "cell_type": "markdown",
      "metadata": {
        "id": "bigNeM3KA_2m"
      },
      "source": [
        "#CIFAR"
      ]
    },
    {
      "cell_type": "markdown",
      "metadata": {
        "id": "Ujd47_JVTK3s"
      },
      "source": [
        "Model Alexnet"
      ]
    },
    {
      "cell_type": "markdown",
      "metadata": {
        "id": "pQ9inEqDSM6A"
      },
      "source": [
        "Transformasi data CIFAR-10 (resize gambar menjadi 224x224)"
      ]
    },
    {
      "cell_type": "code",
      "execution_count": 11,
      "metadata": {
        "id": "VgMKp1Cp-0ci"
      },
      "outputs": [],
      "source": [
        "transform_cifar = transforms.Compose([\n",
        "    transforms.Resize(224),\n",
        "    transforms.RandomHorizontalFlip(),\n",
        "    transforms.RandomCrop(224, padding=4),\n",
        "    transforms.ToTensor(),\n",
        "    transforms.Normalize((0.5, 0.5, 0.5), (0.5, 0.5, 0.5))])\n"
      ]
    },
    {
      "cell_type": "markdown",
      "metadata": {
        "id": "pDX0XgLoSTM7"
      },
      "source": [
        "Mengimport dataset CIFAR-10"
      ]
    },
    {
      "cell_type": "code",
      "execution_count": 12,
      "metadata": {
        "colab": {
          "base_uri": "https://localhost:8080/"
        },
        "id": "CxywCP91BOgA",
        "outputId": "b2f856bd-670f-4acb-e141-4f283b68b02d"
      },
      "outputs": [
        {
          "name": "stdout",
          "output_type": "stream",
          "text": [
            "Downloading https://www.cs.toronto.edu/~kriz/cifar-10-python.tar.gz to ./data/cifar-10-python.tar.gz\n"
          ]
        },
        {
          "name": "stderr",
          "output_type": "stream",
          "text": [
            "100%|██████████| 170498071/170498071 [00:01<00:00, 103203522.99it/s]\n"
          ]
        },
        {
          "name": "stdout",
          "output_type": "stream",
          "text": [
            "Extracting ./data/cifar-10-python.tar.gz to ./data\n",
            "Files already downloaded and verified\n"
          ]
        }
      ],
      "source": [
        "trainset_cifar = torchvision.datasets.CIFAR10(root='./data', train=True, download=True, transform=transform_cifar)\n",
        "trainloader_cifar = torch.utils.data.DataLoader(trainset_cifar, batch_size=64, shuffle=True)\n",
        "\n",
        "testset_cifar = torchvision.datasets.CIFAR10(root='./data', train=False, download=True, transform=transform_cifar)\n",
        "testloader_cifar = torch.utils.data.DataLoader(testset_cifar, batch_size=64, shuffle=False)\n"
      ]
    },
    {
      "cell_type": "markdown",
      "metadata": {
        "id": "QY0z0WV3SYJ-"
      },
      "source": [
        "Inisialisasi model AlexNet"
      ]
    },
    {
      "cell_type": "code",
      "execution_count": 13,
      "metadata": {
        "colab": {
          "base_uri": "https://localhost:8080/"
        },
        "id": "5XFAwZ1TBNYG",
        "outputId": "e1fd8862-32e2-45a4-aefa-04aecc681580"
      },
      "outputs": [
        {
          "name": "stderr",
          "output_type": "stream",
          "text": [
            "/usr/local/lib/python3.10/dist-packages/torchvision/models/_utils.py:208: UserWarning: The parameter 'pretrained' is deprecated since 0.13 and may be removed in the future, please use 'weights' instead.\n",
            "  warnings.warn(\n",
            "/usr/local/lib/python3.10/dist-packages/torchvision/models/_utils.py:223: UserWarning: Arguments other than a weight enum or `None` for 'weights' are deprecated since 0.13 and may be removed in the future. The current behavior is equivalent to passing `weights=None`.\n",
            "  warnings.warn(msg)\n"
          ]
        }
      ],
      "source": [
        "model_cifar = models.alexnet(pretrained=False, num_classes=10)\n",
        "model_cifar = model_cifar.to(device)"
      ]
    },
    {
      "cell_type": "markdown",
      "metadata": {
        "id": "zViHC_DcSjIL"
      },
      "source": [
        "Inisialisasi Model Loss dan Optimizer"
      ]
    },
    {
      "cell_type": "code",
      "execution_count": 14,
      "metadata": {
        "id": "fE2yYaEeBSRQ"
      },
      "outputs": [],
      "source": [
        "criterion_cifar = nn.CrossEntropyLoss()\n",
        "optimizer_cifar = optim.Adam(model_cifar.parameters(), lr=0.001)"
      ]
    },
    {
      "cell_type": "markdown",
      "metadata": {
        "id": "62eEl3nBSwvb"
      },
      "source": [
        "Fungsi training dataset CIFAR dengan model Alexnet"
      ]
    },
    {
      "cell_type": "code",
      "execution_count": 15,
      "metadata": {
        "id": "DD4RtuliBUL1"
      },
      "outputs": [],
      "source": [
        "def train_model_cifar(model, trainloader, criterion, optimizer, epochs=5):\n",
        "    model.train()\n",
        "    train_loss = []\n",
        "    for epoch in range(epochs):\n",
        "        running_loss = 0.0\n",
        "        for inputs, labels in trainloader:\n",
        "            inputs, labels = inputs.to(device), labels.to(device)\n",
        "\n",
        "            optimizer.zero_grad()\n",
        "            outputs = model(inputs)\n",
        "            loss = criterion(outputs, labels)\n",
        "            loss.backward()\n",
        "            optimizer.step()\n",
        "\n",
        "            running_loss += loss.item()\n",
        "        epoch_loss = running_loss / len(trainloader)\n",
        "        train_loss.append(epoch_loss)\n",
        "        print(f\"Epoch {epoch+1}/{epochs}, Loss: {epoch_loss:.4f}\")\n",
        "    return train_loss"
      ]
    },
    {
      "cell_type": "markdown",
      "metadata": {
        "id": "xfKZVY7fS26a"
      },
      "source": [
        "Training model dataset CIFAR-10 untuk model Alexnet"
      ]
    },
    {
      "cell_type": "code",
      "execution_count": 16,
      "metadata": {
        "colab": {
          "base_uri": "https://localhost:8080/"
        },
        "id": "pDsosAvHBW7l",
        "outputId": "1f36e879-e204-4ef6-84c2-72f85499dfa3"
      },
      "outputs": [
        {
          "name": "stdout",
          "output_type": "stream",
          "text": [
            "Epoch 1/5, Loss: 1.7303\n",
            "Epoch 2/5, Loss: 1.4193\n",
            "Epoch 3/5, Loss: 1.2922\n",
            "Epoch 4/5, Loss: 1.2081\n",
            "Epoch 5/5, Loss: 1.1544\n"
          ]
        }
      ],
      "source": [
        "# Training the model on CIFAR-10\n",
        "train_loss_cifar = train_model_cifar(model_cifar, trainloader_cifar, criterion_cifar, optimizer_cifar)"
      ]
    },
    {
      "cell_type": "markdown",
      "metadata": {
        "id": "GHwQuWngTBhA"
      },
      "source": [
        "Visualisasi plot training loss untuk dataset CIFAR-10 pada model Alexnet"
      ]
    },
    {
      "cell_type": "code",
      "execution_count": 17,
      "metadata": {
        "colab": {
          "base_uri": "https://localhost:8080/",
          "height": 472
        },
        "id": "Qe1we8dcBXxH",
        "outputId": "15d353c6-64fe-425d-ad1e-99d4fa355179"
      },
      "outputs": [
        {
          "data": {
            "image/png": "[encoded data removed]",
            "text/plain": [
              "<Figure size 640x480 with 1 Axes>"
            ]
          },
          "metadata": {},
          "output_type": "display_data"
        }
      ],
      "source": [
        "# Plotting CIFAR-10 Training Loss\n",
        "plt.plot(train_loss_cifar)\n",
        "plt.title('CIFAR-10 Training Loss')\n",
        "plt.xlabel('Epoch')\n",
        "plt.ylabel('Loss')\n",
        "plt.show()"
      ]
    },
    {
      "cell_type": "markdown",
      "metadata": {
        "id": "5CeJb47CJESZ"
      },
      "source": [
        "Model Resnet-18"
      ]
    },
    {
      "cell_type": "markdown",
      "metadata": {
        "id": "rocbW39nThgJ"
      },
      "source": [
        "Transformasi data CIFAR-10"
      ]
    },
    {
      "cell_type": "code",
      "execution_count": 18,
      "metadata": {
        "id": "ygk5lOpYJCrg"
      },
      "outputs": [],
      "source": [
        "from torchvision.models import resnet18\n",
        "\n",
        "transform_cifar = transforms.Compose([\n",
        "    transforms.RandomHorizontalFlip(),\n",
        "    transforms.RandomCrop(32, padding=4),\n",
        "    transforms.ToTensor(),\n",
        "    transforms.Normalize((0.5, 0.5, 0.5), (0.5, 0.5, 0.5))\n",
        "])"
      ]
    },
    {
      "cell_type": "markdown",
      "metadata": {
        "id": "8TMYFGwATk3M"
      },
      "source": [
        "Import data CIFAR-10"
      ]
    },
    {
      "cell_type": "code",
      "execution_count": 19,
      "metadata": {
        "colab": {
          "base_uri": "https://localhost:8080/"
        },
        "id": "fJaIw-TLJHaW",
        "outputId": "1eb1c4b4-1045-4c26-8965-05259bfe85fe"
      },
      "outputs": [
        {
          "name": "stdout",
          "output_type": "stream",
          "text": [
            "Files already downloaded and verified\n",
            "Files already downloaded and verified\n"
          ]
        }
      ],
      "source": [
        "trainset_cifar = torchvision.datasets.CIFAR10(root='./data', train=True, download=True, transform=transform_cifar)\n",
        "trainloader_cifar = torch.utils.data.DataLoader(trainset_cifar, batch_size=64, shuffle=True)\n",
        "\n",
        "testset_cifar = torchvision.datasets.CIFAR10(root='./data', train=False, download=True, transform=transform_cifar)\n",
        "testloader_cifar = torch.utils.data.DataLoader(testset_cifar, batch_size=64, shuffle=False)\n"
      ]
    },
    {
      "cell_type": "markdown",
      "metadata": {
        "id": "QezFAuYoTwlr"
      },
      "source": [
        "Import model ResNet-18"
      ]
    },
    {
      "cell_type": "code",
      "execution_count": 20,
      "metadata": {
        "id": "3Y35d2uWJIZY"
      },
      "outputs": [],
      "source": [
        "model_cifar = resnet18(pretrained=False)\n",
        "model_cifar.fc = nn.Linear(model_cifar.fc.in_features, 10)  \n",
        "model_cifar = model_cifar.to(device)"
      ]
    },
    {
      "cell_type": "markdown",
      "metadata": {
        "id": "wf1Jxq9NT-Cd"
      },
      "source": [
        "Inisialisasi Model Loss dan Optimizer"
      ]
    },
    {
      "cell_type": "code",
      "execution_count": 21,
      "metadata": {
        "id": "8sapX3mCJV3m"
      },
      "outputs": [],
      "source": [
        "criterion_cifar = nn.CrossEntropyLoss()\n",
        "optimizer_cifar = optim.Adam(model_cifar.parameters(), lr=0.001)"
      ]
    },
    {
      "cell_type": "markdown",
      "metadata": {
        "id": "j5-5VeyzUAJY"
      },
      "source": [
        "Fungsi Training Model Resnet-18 pada dataset CIFAR-10"
      ]
    },
    {
      "cell_type": "code",
      "execution_count": 22,
      "metadata": {
        "id": "Y6fwvtPqJJ14"
      },
      "outputs": [],
      "source": [
        "def train_model_cifar(model, trainloader, criterion, optimizer, epochs=5):\n",
        "    model.train()\n",
        "    train_loss = []\n",
        "    for epoch in range(epochs):\n",
        "        running_loss = 0.0\n",
        "        for inputs, labels in trainloader:\n",
        "            inputs, labels = inputs.to(device), labels.to(device)\n",
        "\n",
        "            optimizer.zero_grad()\n",
        "            outputs = model(inputs)\n",
        "            loss = criterion(outputs, labels)\n",
        "            loss.backward()\n",
        "            optimizer.step()\n",
        "\n",
        "            running_loss += loss.item()\n",
        "        epoch_loss = running_loss / len(trainloader)\n",
        "        train_loss.append(epoch_loss)\n",
        "        print(f\"Epoch {epoch+1}/{epochs}, Loss: {epoch_loss:.4f}\")\n",
        "    return train_loss"
      ]
    },
    {
      "cell_type": "markdown",
      "metadata": {
        "id": "Kb1ydEkoUNyJ"
      },
      "source": [
        "Training model Resnet-18 Pada Dataset CIFAR-10"
      ]
    },
    {
      "cell_type": "code",
      "execution_count": 23,
      "metadata": {
        "colab": {
          "base_uri": "https://localhost:8080/"
        },
        "id": "EqRWG7cKJXsp",
        "outputId": "44934a14-1930-4f31-fd04-6401e43f13fa"
      },
      "outputs": [
        {
          "name": "stdout",
          "output_type": "stream",
          "text": [
            "Epoch 1/5, Loss: 1.5605\n",
            "Epoch 2/5, Loss: 1.2054\n",
            "Epoch 3/5, Loss: 1.0286\n",
            "Epoch 4/5, Loss: 0.9273\n",
            "Epoch 5/5, Loss: 0.8463\n"
          ]
        }
      ],
      "source": [
        "train_loss_cifar = train_model_cifar(model_cifar, trainloader_cifar, criterion_cifar, optimizer_cifar)\n"
      ]
    },
    {
      "cell_type": "markdown",
      "metadata": {
        "id": "JH1_yuZPUa9i"
      },
      "source": [
        "Visualisasi plot training loss untuk dataset CIFAR-10 pada model Alexnet"
      ]
    },
    {
      "cell_type": "code",
      "execution_count": 24,
      "metadata": {
        "colab": {
          "base_uri": "https://localhost:8080/",
          "height": 472
        },
        "id": "AllBAWV8JZNv",
        "outputId": "84a7c2d8-5b89-487a-c13e-3ec51f5c0e3c"
      },
      "outputs": [
        {
          "data": {
            "image/png": "[encoded data removed]",
            "text/plain": [
              "<Figure size 640x480 with 1 Axes>"
            ]
          },
          "metadata": {},
          "output_type": "display_data"
        }
      ],
      "source": [
        "plt.plot(train_loss_cifar)\n",
        "plt.title('CIFAR-10 ResNet-18 Training Loss')\n",
        "plt.xlabel('Epoch')\n",
        "plt.ylabel('Loss')\n",
        "plt.show()"
      ]
    },
    {
      "cell_type": "markdown",
      "metadata": {
        "id": "DKSzzSulUfNj"
      },
      "source": [
        "Fungsi untuk menghitung akurasi dan mengevaluasi model"
      ]
    },
    {
      "cell_type": "code",
      "execution_count": 35,
      "metadata": {
        "colab": {
          "base_uri": "https://localhost:8080/"
        },
        "id": "ZhWi0jQCWu0j",
        "outputId": "d03b66d4-076a-4718-90bb-b140ab03bb8d"
      },
      "outputs": [
        {
          "name": "stdout",
          "output_type": "stream",
          "text": [
            "Accuracy dari model : 98.97%\n",
            "Accuracy dari model : 68.18%\n"
          ]
        },
        {
          "data": {
            "text/plain": [
              "68.18"
            ]
          },
          "execution_count": 35,
          "metadata": {},
          "output_type": "execute_result"
        }
      ],
      "source": [
        "def evaluate_model(model, testloader):\n",
        "    model.eval()\n",
        "    correct = 0\n",
        "    total = 0\n",
        "    with torch.no_grad():\n",
        "        for inputs, labels in testloader:\n",
        "            inputs, labels = inputs.to(device), labels.to(device)\n",
        "            outputs = model(inputs)\n",
        "            _, predicted = torch.max(outputs.data, 1)\n",
        "            total += labels.size(0)\n",
        "            correct += (predicted == labels).sum().item()\n",
        "\n",
        "    accuracy = 100 * correct / total\n",
        "    print(f\"Accuracy dari model : {accuracy:.2f}%\")\n",
        "    return accuracy\n",
        "\n",
        "# Evaluasi akurasi SimpleCNN pada MNIST\n",
        "evaluate_model(model, testloader)\n",
        "# Evaluasi akurasi SimpleCNN pada MNIST ResNet-18\n",
        "evaluate_model(model_cifar, testloader_cifar)"
      ]
    }
  ],
  "metadata": {
    "accelerator": "TPU",
    "colab": {
      "gpuType": "V28",
      "provenance": []
    },
    "kernelspec": {
      "display_name": "Python 3",
      "name": "python3"
    },
    "language_info": {
      "codemirror_mode": {
        "name": "ipython",
        "version": 3
      },
      "file_extension": ".py",
      "mimetype": "text/x-python",
      "name": "python",
      "nbconvert_exporter": "python",
      "pygments_lexer": "ipython3",
      "version": "3.12.5"
    }
  },
  "nbformat": 4,
  "nbformat_minor": 0
}
